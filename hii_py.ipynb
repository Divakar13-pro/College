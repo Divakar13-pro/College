{
  "nbformat": 4,
  "nbformat_minor": 0,
  "metadata": {
    "colab": {
      "provenance": [],
      "authorship_tag": "ABX9TyOdvTYSnSkYiijWCJnjhnBG",
      "include_colab_link": true
    },
    "kernelspec": {
      "name": "python3",
      "display_name": "Python 3"
    },
    "language_info": {
      "name": "python"
    }
  },
  "cells": [
    {
      "cell_type": "markdown",
      "metadata": {
        "id": "view-in-github",
        "colab_type": "text"
      },
      "source": [
        "<a href=\"https://colab.research.google.com/github/Divakar13-pro/College/blob/main/hii_py.ipynb\" target=\"_parent\"><img src=\"https://colab.research.google.com/assets/colab-badge.svg\" alt=\"Open In Colab\"/></a>"
      ]
    },
    {
      "cell_type": "code",
      "execution_count": null,
      "metadata": {
        "colab": {
          "base_uri": "https://localhost:8080/"
        },
        "id": "Ea9cKVc4rEW1",
        "outputId": "9c4848da-3a4c-4391-91a1-25af09bd7194"
      },
      "outputs": [
        {
          "output_type": "stream",
          "name": "stdout",
          "text": [
            "Original DataFrame:\n",
            "    Product  Price\n",
            "0    Laptop   1200\n",
            "1     Mouse     25\n",
            "2  Keyboard     75\n",
            "3    Laptop   1150\n",
            "4     Mouse     20\n",
            "\n",
            "Dummy variables for 'Product' column:\n",
            "   Keyboard  Laptop  Mouse\n",
            "0     False    True  False\n",
            "1     False   False   True\n",
            "2      True   False  False\n",
            "3     False    True  False\n",
            "4     False   False   True\n",
            "\n",
            "DataFrame with dummy variables integrated:\n",
            "   Price  Keyboard  Laptop  Mouse\n",
            "0   1200     False    True  False\n",
            "1     25     False   False   True\n",
            "2     75      True   False  False\n",
            "3   1150     False    True  False\n",
            "4     20     False   False   True\n",
            "\n",
            "Dummy variables for 'Product' with drop_first=True:\n",
            "   Laptop  Mouse\n",
            "0    True  False\n",
            "1   False   True\n",
            "2   False  False\n",
            "3    True  False\n",
            "4   False   True\n"
          ]
        }
      ],
      "source": [
        "import pandas as pd\n",
        "\n",
        "# Create a sample DataFrame with a categorical column\n",
        "data = {'Product': ['Laptop', 'Mouse', 'Keyboard', 'Laptop', 'Mouse'],\n",
        "        'Price': [1200, 25, 75, 1150, 20]}\n",
        "df = pd.DataFrame(data)\n",
        "\n",
        "print(\"Original DataFrame:\")\n",
        "print(df)\n",
        "\n",
        "# Convert the 'Product' column to dummy variables\n",
        "# Each unique category in 'Product' will become a new binary column\n",
        "dummies = pd.get_dummies(df['Product'])\n",
        "\n",
        "print(\"\\nDummy variables for 'Product' column:\")\n",
        "print(dummies)\n",
        "\n",
        "# You can also integrate the dummy variables back into the original DataFrame\n",
        "# using pd.concat() and dropping the original categorical column\n",
        "df_encoded = pd.concat([df, dummies], axis=1)\n",
        "df_encoded = df_encoded.drop('Product', axis=1)\n",
        "\n",
        "print(\"\\nDataFrame with dummy variables integrated:\")\n",
        "print(df_encoded)\n",
        "\n",
        "# Example with 'drop_first=True' to avoid multicollinearity (for some models)\n",
        "dummies_drop_first = pd.get_dummies(df['Product'], drop_first=True)\n",
        "print(\"\\nDummy variables for 'Product' with drop_first=True:\")\n",
        "print(dummies_drop_first)"
      ]
    }
  ]
}